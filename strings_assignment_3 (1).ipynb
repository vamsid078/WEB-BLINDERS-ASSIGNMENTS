{
  "nbformat": 4,
  "nbformat_minor": 0,
  "metadata": {
    "colab": {
      "provenance": []
    },
    "kernelspec": {
      "name": "python3",
      "display_name": "Python 3"
    },
    "language_info": {
      "name": "python"
    }
  },
  "cells": [
    {
      "cell_type": "markdown",
      "source": [
        "1.Write a Python program to count the number of vowels in a string.\n",
        "\n",
        "input : hasdfgeuionhjl"
      ],
      "metadata": {
        "id": "q8RkYTES1QUW"
      }
    },
    {
      "cell_type": "code",
      "source": [
        "string = input(\"Enter the sentence : \")\n",
        "vowels = \"aeiouAEIOU\"\n",
        "c=0\n",
        "for i in string:\n",
        "  if i in vowels:\n",
        "    c+=1\n",
        "print(c)"
      ],
      "metadata": {
        "id": "UHi6ezjV1X0s",
        "colab": {
          "base_uri": "https://localhost:8080/"
        },
        "outputId": "929cd783-565c-4346-d819-de605c57187e"
      },
      "execution_count": 2,
      "outputs": [
        {
          "output_type": "stream",
          "name": "stdout",
          "text": [
            "Enter the sentence : hasdfgeuionhjl\n",
            "5\n"
          ]
        }
      ]
    },
    {
      "cell_type": "markdown",
      "source": [
        "2.Write a Python program to count the occurrences of each word in a sentence.\n",
        "\n",
        "input : hi hello hi and and hi more and more programming"
      ],
      "metadata": {
        "id": "v7GBEK161QWy"
      }
    },
    {
      "cell_type": "code",
      "source": [
        "string = input(\"Enter the sentence : \")\n",
        "sen = string.split()\n",
        "word_cnt ={}\n",
        "for i in sen:\n",
        "  word_cnt[i]=word_cnt.get(i,0)+1\n",
        "for word, count in word_cnt.items():\n",
        "    print(f\"'{word}': {count}\")\n"
      ],
      "metadata": {
        "id": "R-UzDybK1uZo",
        "colab": {
          "base_uri": "https://localhost:8080/"
        },
        "outputId": "cc6feaad-9dde-4e40-a054-87fe7d86ba5a"
      },
      "execution_count": 4,
      "outputs": [
        {
          "output_type": "stream",
          "name": "stdout",
          "text": [
            "Enter the sentence : hi hello hi and and hi more and more programming\n",
            "'hi': 3\n",
            "'hello': 1\n",
            "'and': 3\n",
            "'more': 2\n",
            "'programming': 1\n"
          ]
        }
      ]
    },
    {
      "cell_type": "markdown",
      "source": [
        "3.In python how can you differentiate strings and lists. Give atleast 5 different comparisons between them."
      ],
      "metadata": {
        "id": "evCcw-0H1QY9"
      }
    },
    {
      "cell_type": "markdown",
      "source": [
        "Answer:\n",
        "1. Data Type:\n",
        "   - Strings: Sequence of characters.\n",
        "   - Lists: Sequence of any data type.\n",
        "\n",
        "2. Mutability:\n",
        "   - Strings: Immutable.\n",
        "   - Lists: Mutable.\n",
        "\n",
        "3. Supported Operations:\n",
        "   - Strings: String-specific methods (e.g., `upper()`, `lower()`).\n",
        "   - Lists: List-specific methods (e.g., `append()`, `pop()`).\n",
        "\n",
        "4. Elements:\n",
        "   - Strings: Elements are always single characters.\n",
        "   - Lists: Elements can be of any data type (e.g., integers, strings, other lists).\n",
        "\n",
        "5. Iteration:\n",
        "   - Strings: Iterates over characters.\n",
        "   - Lists: Iterates over elements."
      ],
      "metadata": {
        "id": "OfiTI0pv1QbU"
      }
    },
    {
      "cell_type": "markdown",
      "source": [
        "4.Write a string for your own of approximately 40 in length and perform any 5 different string operations on that."
      ],
      "metadata": {
        "id": "riR1PWxG1Qdq"
      }
    },
    {
      "cell_type": "code",
      "source": [
        "my_string = input(\"Enter the string : \")\n",
        "length = len(my_string)\n",
        "print(\"Length:\", length)\n",
        "\n",
        "uppercase_string = my_string.upper()\n",
        "print(\"Uppercase:\", uppercase_string)\n",
        "\n",
        "index = my_string.find(\"Python\")\n",
        "print(\"Index of 'Python':\", index)\n",
        "\n",
        "modified_string = my_string.replace(\"fun\", \"amazing\")\n",
        "print(\"Modified String:\", modified_string)\n",
        "\n",
        "starts_with_learning = my_string.startswith(\"Learning\")\n",
        "print(\"Starts with 'Learning':\", starts_with_learning)\n"
      ],
      "metadata": {
        "id": "3bHyrDS12e8i",
        "colab": {
          "base_uri": "https://localhost:8080/"
        },
        "outputId": "6902eed5-8bce-4037-b6d8-c4390a09b7dc"
      },
      "execution_count": 5,
      "outputs": [
        {
          "output_type": "stream",
          "name": "stdout",
          "text": [
            "Enter the string : Learning Python is fun and exciting!\n",
            "Length: 36\n",
            "Uppercase: LEARNING PYTHON IS FUN AND EXCITING!\n",
            "Index of 'Python': 9\n",
            "Modified String: Learning Python is amazing and exciting!\n",
            "Starts with 'Learning': True\n"
          ]
        }
      ]
    },
    {
      "cell_type": "markdown",
      "source": [
        "5.Explain the concatination in strings with a neat example."
      ],
      "metadata": {
        "id": "bbUm7VVN1Qfu"
      }
    },
    {
      "cell_type": "code",
      "source": [
        "first_name = \"John\"\n",
        "last_name = \"Doe\"\n",
        "full_name = first_name + \" \" + last_name\n",
        "print(full_name)\n"
      ],
      "metadata": {
        "id": "y9292Q452tF0",
        "colab": {
          "base_uri": "https://localhost:8080/"
        },
        "outputId": "65b566f5-9df8-4bee-d0cb-49e2129f0c4e"
      },
      "execution_count": 6,
      "outputs": [
        {
          "output_type": "stream",
          "name": "stdout",
          "text": [
            "John Doe\n"
          ]
        }
      ]
    },
    {
      "cell_type": "code",
      "source": [],
      "metadata": {
        "id": "vnMNtJgq2xuG"
      },
      "execution_count": null,
      "outputs": []
    }
  ]
}