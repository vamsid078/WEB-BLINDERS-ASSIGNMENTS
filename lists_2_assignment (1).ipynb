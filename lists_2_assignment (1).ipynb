{
  "nbformat": 4,
  "nbformat_minor": 0,
  "metadata": {
    "colab": {
      "provenance": []
    },
    "kernelspec": {
      "name": "python3",
      "display_name": "Python 3"
    },
    "language_info": {
      "name": "python"
    }
  },
  "cells": [
    {
      "cell_type": "markdown",
      "source": [
        "1.Remove empty strings from the list1 of strings\n",
        "\n",
        "list1 = [\"Mike\", \" \", \"Emma\", \"Kelly\", \" \", \"Brad\"]\n",
        "\n",
        "\n"
      ],
      "metadata": {
        "id": "2caz_EPd5ui9"
      }
    },
    {
      "cell_type": "code",
      "source": [
        "list1 = [\"Mike\", \"\", \"Emma\", \"Kelly\", \"\", \"Brad\"]\n",
        "result = [x for x in list1 if x != \"\"]\n",
        "print(result)"
      ],
      "metadata": {
        "id": "Q1BAsluP59Zu",
        "colab": {
          "base_uri": "https://localhost:8080/"
        },
        "outputId": "62883d13-503d-45e0-89dd-ae611a7b7f60"
      },
      "execution_count": 3,
      "outputs": [
        {
          "output_type": "stream",
          "name": "stdout",
          "text": [
            "['Mike', 'Emma', 'Kelly', 'Brad']\n"
          ]
        }
      ]
    },
    {
      "cell_type": "markdown",
      "source": [
        "2.Write a program to add item 7000 after 6000 in the following Python List\n",
        "\n",
        "list1 = [10, 20, [300, 400, [5000, 6000], 500], 30, 40]\n",
        "\n",
        "expected o/p ; [10, 20, [300, 400, [5000, 6000, 7000], 500], 30, 40]"
      ],
      "metadata": {
        "id": "dy5zj1nH6EeC"
      }
    },
    {
      "cell_type": "code",
      "source": [
        "list1 = [10, 20, [300, 400, [5000, 6000], 500], 30, 40]\n",
        "add = int(input(\"Enter number 7000:\"))\n",
        "list1[2][2].append(add)\n",
        "print(list1)"
      ],
      "metadata": {
        "id": "NvOK7zjS6Ypm",
        "colab": {
          "base_uri": "https://localhost:8080/"
        },
        "outputId": "3bfc3630-cda4-47b7-ab2f-aeaa6b63c42d"
      },
      "execution_count": 4,
      "outputs": [
        {
          "output_type": "stream",
          "name": "stdout",
          "text": [
            "Enter number 7000:7000\n",
            "[10, 20, [300, 400, [5000, 6000, 7000], 500], 30, 40]\n"
          ]
        }
      ]
    },
    {
      "cell_type": "markdown",
      "source": [
        "3.You have given a Python list. Write a program to find value 20 in the list, and if it is present, replace it with 200. Only update the first occurrence of an item.\n",
        "\n",
        "list1 = [5, 10, 15, 20, 25, 50, 20]\n",
        "\n",
        "Expected output:\n",
        "[5, 10, 15, 200, 25, 50, 20]"
      ],
      "metadata": {
        "id": "eKYYcluk6EoM"
      }
    },
    {
      "cell_type": "code",
      "source": [
        "list1 = [5, 10, 15, 20, 25, 50, 20]\n",
        "idx = list1.index(20)\n",
        "list1[idx]=200\n",
        "print(list1)\n"
      ],
      "metadata": {
        "id": "Rr8oqp1k6vOX",
        "colab": {
          "base_uri": "https://localhost:8080/"
        },
        "outputId": "1464f6bd-b2f1-4677-9a81-b3993063a0a5"
      },
      "execution_count": 5,
      "outputs": [
        {
          "output_type": "stream",
          "name": "stdout",
          "text": [
            "[5, 10, 15, 200, 25, 50, 20]\n"
          ]
        }
      ]
    },
    {
      "cell_type": "markdown",
      "source": [
        "4.Remove all occurrences of a specific item from a list.\n",
        "Given a Python list, write a program to remove all occurrences of item 20.\n",
        "\n",
        "list1 = [5, 20, 15, 20, 25, 50, 20]\n",
        "\n",
        "Expected output:\n",
        "\n",
        "[5, 15, 25, 50]"
      ],
      "metadata": {
        "id": "JbJhbXS46Eyn"
      }
    },
    {
      "cell_type": "code",
      "source": [
        "list1 = [5, 20, 15, 20, 25, 50, 20]\n",
        "for i in list1:\n",
        "  if i == 20:\n",
        "    list1.remove(i)\n",
        "print(list1)"
      ],
      "metadata": {
        "id": "391fvowJ7DIs",
        "colab": {
          "base_uri": "https://localhost:8080/"
        },
        "outputId": "9cc1bd6e-4b78-41ad-d64c-fe5ce5f790a4"
      },
      "execution_count": 6,
      "outputs": [
        {
          "output_type": "stream",
          "name": "stdout",
          "text": [
            "[5, 15, 25, 50]\n"
          ]
        }
      ]
    },
    {
      "cell_type": "markdown",
      "source": [
        "5.Concatenate two lists in the following order\n",
        "\n",
        "list1 = [\"Hello \", \"take \"]\n",
        "\n",
        "list2 = [\"Dear\", \"Sir\"]\n",
        "\n",
        "Expected output:\n",
        "\n",
        "['Hello Dear', 'Hello Sir', 'take Dear', 'take Sir']"
      ],
      "metadata": {
        "id": "7wpuDD3R6E7g"
      }
    },
    {
      "cell_type": "code",
      "source": [
        "list1 = [\"Hello \", \"take \"]\n",
        "list2 = [\"Dear\", \"Sir\"]\n",
        "list3 = []\n",
        "for i in list1:\n",
        "  for j in list2:\n",
        "    list3.append(i+j)\n",
        "print(list3)"
      ],
      "metadata": {
        "id": "OAEqzjHy7b-h",
        "colab": {
          "base_uri": "https://localhost:8080/"
        },
        "outputId": "a072286c-df9d-4a0f-ad0a-bee57daab623"
      },
      "execution_count": 8,
      "outputs": [
        {
          "output_type": "stream",
          "name": "stdout",
          "text": [
            "['Hello Dear', 'Hello Sir', 'take Dear', 'take Sir']\n"
          ]
        }
      ]
    }
  ]
}