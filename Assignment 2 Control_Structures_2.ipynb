{
  "nbformat": 4,
  "nbformat_minor": 0,
  "metadata": {
    "colab": {
      "provenance": []
    },
    "kernelspec": {
      "name": "python3",
      "display_name": "Python 3"
    },
    "language_info": {
      "name": "python"
    }
  },
  "cells": [
    {
      "cell_type": "markdown",
      "source": [
        "*** USE THE CONCEPT OF LOOPS TO SOLVE THE BELOW PROGRAMS***"
      ],
      "metadata": {
        "id": "LntIlHO5OfPf"
      }
    },
    {
      "cell_type": "markdown",
      "source": [
        "1) Python program to count the total number of digits in a number.\n",
        "\n",
        "TAKE THE INPUT NUMBER : 123456\n",
        "\n",
        "\n",
        "\n"
      ],
      "metadata": {
        "id": "vxHfbNtoOfRV"
      }
    },
    {
      "cell_type": "code",
      "source": [
        "#wRITE YOUR CODE HERE\n",
        "n=int(input())\n",
        "dig=0\n",
        "while(n>0):\n",
        "    dig=dig+1\n",
        "    n=n//10\n",
        "print(dig)"
      ],
      "metadata": {
        "id": "_PKg5umLO2-q",
        "colab": {
          "base_uri": "https://localhost:8080/"
        },
        "outputId": "88d9c989-c257-4393-f10f-5f024e3030c2"
      },
      "execution_count": 5,
      "outputs": [
        {
          "output_type": "stream",
          "name": "stdout",
          "text": [
            "123456\n",
            "6\n"
          ]
        }
      ]
    },
    {
      "cell_type": "markdown",
      "source": [
        "2) Python program to count the number of even and odd numbers from a series of numbers.\n",
        "\n",
        "num_list = [1,3,5,6,99,134,55]"
      ],
      "metadata": {
        "id": "bXf8Z8feOfTn"
      }
    },
    {
      "cell_type": "code",
      "source": [
        "#WRITE YOUR CODE HERE\n",
        "num_list=[1,3,5,6,99,134,55]\n",
        "odd=0\n",
        "even=0\n",
        "for i in range(0,len(num_list)):\n",
        "  if(num_list[i]%2==0):\n",
        "    even=even+1\n",
        "  else:\n",
        "    odd=odd+1\n",
        "print(odd,even)"
      ],
      "metadata": {
        "id": "QzZjjwRCPIip",
        "colab": {
          "base_uri": "https://localhost:8080/"
        },
        "outputId": "0b72081b-fd25-4654-b7f7-96872a08555e"
      },
      "execution_count": 6,
      "outputs": [
        {
          "output_type": "stream",
          "name": "stdout",
          "text": [
            "5 2\n"
          ]
        }
      ]
    },
    {
      "cell_type": "markdown",
      "source": [
        "3) Python program to get the Fibonacci series between 0 to 50."
      ],
      "metadata": {
        "id": "Ae6CdE7hOfWZ"
      }
    },
    {
      "cell_type": "code",
      "source": [
        "#WRITE YOUR CODE HERE\n",
        "a=0\n",
        "b=1\n",
        "print(a)\n",
        "print(b)\n",
        "for i in range(2,51):\n",
        "  c=a+b\n",
        "  if(c>50):\n",
        "    break\n",
        "  print(c)\n",
        "  a=b\n",
        "  b=c\n"
      ],
      "metadata": {
        "id": "_IIZYCLPPTwI",
        "colab": {
          "base_uri": "https://localhost:8080/"
        },
        "outputId": "739e084a-26a5-476e-9fc6-a676f7d3c486"
      },
      "execution_count": 10,
      "outputs": [
        {
          "output_type": "stream",
          "name": "stdout",
          "text": [
            "0\n",
            "1\n",
            "1\n",
            "2\n",
            "3\n",
            "5\n",
            "8\n",
            "13\n",
            "21\n",
            "34\n"
          ]
        }
      ]
    },
    {
      "cell_type": "markdown",
      "source": [
        "4) Python program that accepts a string and calculates the number of digits and letters.\n",
        "\n",
        "Input\n",
        "\n",
        "WEBBLINDERS1234"
      ],
      "metadata": {
        "id": "VYbquVMROfZz"
      }
    },
    {
      "cell_type": "code",
      "source": [
        "#WRITE YOUR CODE HERE\n",
        "n=input()\n",
        "num=0\n",
        "letters=0;\n",
        "for i in range(0,len(n)):\n",
        "  if(n[i]>='0' and n[i]<='9'):\n",
        "    num=num+1\n",
        "  else:\n",
        "    letters=letters+1\n",
        "print(num,letters)"
      ],
      "metadata": {
        "id": "iGYeja7XPop3",
        "colab": {
          "base_uri": "https://localhost:8080/"
        },
        "outputId": "e8c9bde1-e50e-4cfa-c975-ca70c2fc8cf4"
      },
      "execution_count": 8,
      "outputs": [
        {
          "output_type": "stream",
          "name": "stdout",
          "text": [
            "WEBBLINDERS1234\n",
            "4 11\n"
          ]
        }
      ]
    },
    {
      "cell_type": "markdown",
      "source": [
        "5) Python program to display all numbers within a range except the prime numbers.\n",
        "\n",
        "INPUT RANGE : 30 TO 80"
      ],
      "metadata": {
        "id": "RiVenPeDPqs_"
      }
    },
    {
      "cell_type": "code",
      "source": [
        "#WRITE YOUR CODE HERE\n",
        "for i in range(30,81):\n",
        "  prime=0\n",
        "  for j in range(2,i//2+1):\n",
        "    if(i%j==0):\n",
        "      prime=1\n",
        "      break\n",
        "  if(prime==1):\n",
        "    print(i)"
      ],
      "metadata": {
        "id": "UTm21ayAPX02",
        "colab": {
          "base_uri": "https://localhost:8080/"
        },
        "outputId": "c85bdd08-a8d1-47e9-fa40-c0141caaf9a0"
      },
      "execution_count": 9,
      "outputs": [
        {
          "output_type": "stream",
          "name": "stdout",
          "text": [
            "30\n",
            "32\n",
            "33\n",
            "34\n",
            "35\n",
            "36\n",
            "38\n",
            "39\n",
            "40\n",
            "42\n",
            "44\n",
            "45\n",
            "46\n",
            "48\n",
            "49\n",
            "50\n",
            "51\n",
            "52\n",
            "54\n",
            "55\n",
            "56\n",
            "57\n",
            "58\n",
            "60\n",
            "62\n",
            "63\n",
            "64\n",
            "65\n",
            "66\n",
            "68\n",
            "69\n",
            "70\n",
            "72\n",
            "74\n",
            "75\n",
            "76\n",
            "77\n",
            "78\n",
            "80\n"
          ]
        }
      ]
    },
    {
      "cell_type": "code",
      "source": [],
      "metadata": {
        "id": "f751JSKivjxz"
      },
      "execution_count": null,
      "outputs": []
    }
  ]
}